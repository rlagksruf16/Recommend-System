{
 "cells": [
  {
   "cell_type": "code",
   "execution_count": 3,
   "metadata": {},
   "outputs": [],
   "source": [
    "# demo for updating singular value decomposition\n",
    "import numpy as np \n",
    "import pandas as pd\n",
    "import math\n",
    "import scipy.linalg as lin\n",
    "from numpy.linalg import norm"
   ]
  },
  {
   "cell_type": "code",
   "execution_count": 4,
   "metadata": {},
   "outputs": [],
   "source": [
    "m = 500\n",
    "n = 50\n",
    "window = 20\n",
    "kappa = 1.0e+5\n",
    "epsilon = 0.1"
   ]
  },
  {
   "cell_type": "code",
   "execution_count": 12,
   "metadata": {},
   "outputs": [
    {
     "name": "stdout",
     "output_type": "stream",
     "text": [
      "[[-0.00812887  0.00241333 -0.00457936 ...  0.00477139  0.00748279\n",
      "  -0.0011451 ]\n",
      " [ 0.0102173   0.01089984  0.00163088 ... -0.00478727  0.01373004\n",
      "   0.00863471]\n",
      " [ 0.00842769  0.00670273  0.01164294 ...  0.01037011  0.00670228\n",
      "   0.00019113]\n",
      " ...\n",
      " [-0.00565153  0.00265113 -0.00095565 ...  0.00994402  0.00539414\n",
      "   0.00512589]\n",
      " [ 0.00261904  0.00165857  0.01126899 ...  0.00214656  0.00464546\n",
      "   0.00775135]\n",
      " [-0.00172599  0.00114519 -0.00024728 ...  0.01659167  0.00568778\n",
      "   0.00151912]]\n"
     ]
    }
   ],
   "source": [
    "def geometry(m,n,kappa):\n",
    "    p = min([m,n])\n",
    "    Inkappa = -math.log(kappa)/(p-1)\n",
    "    exponents = list(range(0,p))\n",
    "    sigma = [math.exp(i * Inkappa) for i in exponents]\n",
    "    \n",
    "    if m > n:\n",
    "        U = lin.orth(np.random.rand(m,n))\n",
    "        V = lin.orth(np.random.rand(n,n))\n",
    "    else:\n",
    "        U = lin.orth(np.random.rand(m,m))\n",
    "        V = lin.orth(np.random.rand(n,m))\n",
    "    X = np.dot(np.dot(U, np.diag(sigma)), V.transpose())\n",
    "    return X\n",
    "\n",
    "X = geometry(m,n,kappa)\n",
    "print(X)\n",
    "Xi = X(:, 1:n-window)\n",
    "xdata = X(:,(n-window+1):end)\n"
   ]
  },
  {
   "cell_type": "code",
   "execution_count": 13,
   "metadata": {},
   "outputs": [
    {
     "ename": "NameError",
     "evalue": "name 'Xi' is not defined",
     "output_type": "error",
     "traceback": [
      "\u001b[0;31m---------------------------------------------------------------------------\u001b[0m",
      "\u001b[0;31mNameError\u001b[0m                                 Traceback (most recent call last)",
      "\u001b[0;32m<ipython-input-13-81b86020812f>\u001b[0m in \u001b[0;36m<module>\u001b[0;34m\u001b[0m\n\u001b[0;32m----> 1\u001b[0;31m \u001b[0mU\u001b[0m\u001b[0;34m,\u001b[0m \u001b[0mR\u001b[0m\u001b[0;34m,\u001b[0m \u001b[0mV\u001b[0m \u001b[0;34m=\u001b[0m \u001b[0mnp\u001b[0m\u001b[0;34m.\u001b[0m\u001b[0mlinalg\u001b[0m\u001b[0;34m.\u001b[0m\u001b[0msvd\u001b[0m\u001b[0;34m(\u001b[0m\u001b[0mXi\u001b[0m\u001b[0;34m,\u001b[0m \u001b[0mfull_matrices\u001b[0m\u001b[0;34m=\u001b[0m\u001b[0;32mTrue\u001b[0m\u001b[0;34m)\u001b[0m\u001b[0;34m\u001b[0m\u001b[0;34m\u001b[0m\u001b[0m\n\u001b[0m",
      "\u001b[0;31mNameError\u001b[0m: name 'Xi' is not defined"
     ]
    }
   ],
   "source": [
    "U, R, V = np.linalg.svd(Xi, full_matrices=True)"
   ]
  },
  {
   "cell_type": "code",
   "execution_count": null,
   "metadata": {},
   "outputs": [],
   "source": [
    "if(epsilon == 0):\n",
    "    epsilon = sqrt(sum(np.diag(R) ** 2)) * 0.1\n",
    "#   truncation..0\n",
    "#  [idx, ~] = find(diag(R) < epsilon / 5);\n",
    "sum = 0"
   ]
  },
  {
   "cell_type": "code",
   "execution_count": null,
   "metadata": {},
   "outputs": [],
   "source": [
    "max_sum = np.linalg.norm(R, ord = 'fro', axis=None, keepdims=False) ** 2"
   ]
  },
  {
   "cell_type": "code",
   "execution_count": null,
   "metadata": {},
   "outputs": [],
   "source": [
    "for idx in range(1,np.size(R,1)+1):\n",
    "    sum = sum + R[idx-1,idx-1] ** 2\n",
    "    if(sqrt(max_sum - sum) < epsilon * 0.9):\n",
    "        break"
   ]
  },
  {
   "cell_type": "code",
   "execution_count": null,
   "metadata": {},
   "outputs": [],
   "source": [
    "Us = U(:, 1:idx)\n",
    "Rs = R(1:idx, 1:idx)\n",
    "Vs = V(:, 1:idx)"
   ]
  },
  {
   "cell_type": "code",
   "execution_count": null,
   "metadata": {},
   "outputs": [],
   "source": [
    "normE = np.linalg.norm(Xi - (np.dot(Us, np.dot(Rs,Vs))), ord='fro', axis=None, keepdims-False)"
   ]
  }
 ],
 "metadata": {
  "kernelspec": {
   "display_name": "Python 3",
   "language": "python",
   "name": "python3"
  },
  "language_info": {
   "codemirror_mode": {
    "name": "ipython",
    "version": 3
   },
   "file_extension": ".py",
   "mimetype": "text/x-python",
   "name": "python",
   "nbconvert_exporter": "python",
   "pygments_lexer": "ipython3",
   "version": "3.7.4"
  }
 },
 "nbformat": 4,
 "nbformat_minor": 2
}
