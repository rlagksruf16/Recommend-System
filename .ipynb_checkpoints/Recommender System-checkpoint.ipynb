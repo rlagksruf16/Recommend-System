{
 "cells": [
  {
   "cell_type": "code",
   "execution_count": 35,
   "metadata": {},
   "outputs": [],
   "source": [
    "import numpy as np \n",
    "import pandas as pd\n",
    "from numpy import zeros\n",
    "from numpy import diag\n",
    "from numpy import array\n",
    "from numpy import dot\n",
    "import math\n",
    "from numpy.linalg import norm\n",
    "import timeit\n"
   ]
  },
  {
   "cell_type": "code",
   "execution_count": 36,
   "metadata": {},
   "outputs": [],
   "source": [
    "# 데이터 파싱\n",
    "data = pd.io.parsers.read_csv('C:/ml-1m/ratings.dat', \n",
    "    names=['user_id', 'movie_id', 'rating', 'time'],\n",
    "    engine='python', delimiter='::')\n",
    "movie_data = pd.io.parsers.read_csv('C:/ml-1m/movies.dat',\n",
    "    names=['movie_id', 'title', 'genre'],\n",
    "    engine='python', delimiter='::')"
   ]
  },
  {
   "cell_type": "code",
   "execution_count": 37,
   "metadata": {},
   "outputs": [],
   "source": [
    "# 데이터 파싱\n",
    "ratings_mat = np.ndarray(\n",
    "    shape=(np.max(data.movie_id.values), np.max(data.user_id.values)),\n",
    "    dtype=np.uint8)\n",
    "ratings_mat[data.movie_id.values-1, data.user_id.values-1] = data.rating.values"
   ]
  },
  {
   "cell_type": "code",
   "execution_count": 38,
   "metadata": {},
   "outputs": [],
   "source": [
    "# SVD 실행\n",
    "start = timeit.default_timer()\n",
    "U, s , V = np.linalg.svd(ratings_mat, full_matrices=True)\n",
    "stop = timeit.default_timer() "
   ]
  },
  {
   "cell_type": "code",
   "execution_count": 39,
   "metadata": {},
   "outputs": [
    {
     "name": "stdout",
     "output_type": "stream",
     "text": [
      "32.709361700000045\n"
     ]
    }
   ],
   "source": [
    "# 시간 측정\n",
    "print(stop-start)\n"
   ]
  },
  {
   "cell_type": "code",
   "execution_count": 40,
   "metadata": {},
   "outputs": [],
   "source": [
    "S = np.diag(s)\n",
    "\n",
    "U = U[:,0:3952]\n",
    "S = S[0:3952,0:3952]\n",
    "V = V[0:3952,:]"
   ]
  },
  {
   "cell_type": "code",
   "execution_count": 41,
   "metadata": {},
   "outputs": [],
   "source": [
    "appA = np.dot(U, np.dot(S,V))"
   ]
  },
  {
   "cell_type": "code",
   "execution_count": 44,
   "metadata": {},
   "outputs": [],
   "source": [
    "def cosine_similarity(data,x):\n",
    "    z = 0\n",
    "    sim_val = 0\n",
    "    for i in range(0,len(data)):\n",
    "        if(x==i):\n",
    "            continue\n",
    "        else:\n",
    "            normA = norm(appA[x])\n",
    "            if(normA != 0):\n",
    "                if(z < dot(appA[x],appA[i]/(norm(appA[x]) * norm(appA[i])))):\n",
    "                    z = dot(appA[x],appA[i]/(norm(appA[x]) * norm(appA[i])))\n",
    "                    sim_val = i\n",
    "    return z, sim_val\n",
    "\n",
    "similar = cosine_similarity(appA,1)"
   ]
  },
  {
   "cell_type": "code",
   "execution_count": 45,
   "metadata": {},
   "outputs": [
    {
     "name": "stdout",
     "output_type": "stream",
     "text": [
      "(0.6331037415587961, 3113)\n"
     ]
    }
   ],
   "source": [
    "print(similar)"
   ]
  },
  {
   "cell_type": "code",
   "execution_count": null,
   "metadata": {},
   "outputs": [],
   "source": []
  }
 ],
 "metadata": {
  "kernelspec": {
   "display_name": "Python 3",
   "language": "python",
   "name": "python3"
  },
  "language_info": {
   "codemirror_mode": {
    "name": "ipython",
    "version": 3
   },
   "file_extension": ".py",
   "mimetype": "text/x-python",
   "name": "python",
   "nbconvert_exporter": "python",
   "pygments_lexer": "ipython3",
   "version": "3.7.4"
  }
 },
 "nbformat": 4,
 "nbformat_minor": 2
}
